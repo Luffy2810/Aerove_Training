{
 "cells": [
  {
   "cell_type": "code",
   "execution_count": 2,
   "id": "1285c54d",
   "metadata": {},
   "outputs": [],
   "source": [
    "import pandas as pd\n",
    "import numpy as np\n",
    "import random as rd\n",
    "import matplotlib.pyplot as plt"
   ]
  },
  {
   "cell_type": "code",
   "execution_count": 3,
   "id": "b4690dbb",
   "metadata": {},
   "outputs": [
    {
     "name": "stdout",
     "output_type": "stream",
     "text": [
      "            ID  Gender  Ever_Married       Age  Graduated  Work_Experience  \\\n",
      "0     0.425601     0.0           0.0  0.056338        0.0         0.071429   \n",
      "1     0.407140     1.0           1.0  0.281690        1.0              NaN   \n",
      "2     0.815503     1.0           1.0  0.690141        1.0         0.071429   \n",
      "3     0.306161     0.0           1.0  0.690141        1.0         0.000000   \n",
      "4     0.410031     1.0           1.0  0.309859        1.0              NaN   \n",
      "...        ...     ...           ...       ...        ...              ...   \n",
      "8063  0.560053     0.0           0.0  0.056338        0.0         0.000000   \n",
      "8064  0.634230     0.0           0.0  0.239437        0.0         0.214286   \n",
      "8065  0.714413     1.0           0.0  0.211268        1.0         0.071429   \n",
      "8066  0.924933     1.0           0.0  0.126761        1.0         0.071429   \n",
      "8067  0.322175     0.0           1.0  0.267606        1.0         0.000000   \n",
      "\n",
      "      Spending_Score  Family_Size     Var_1  \n",
      "0                0.0        0.375  0.500000  \n",
      "1                0.5        0.250  0.500000  \n",
      "2                0.0        0.000  0.833333  \n",
      "3                1.0        0.125  0.833333  \n",
      "4                1.0        0.625  0.833333  \n",
      "...              ...          ...       ...  \n",
      "8063             0.0        0.750  0.000000  \n",
      "8064             0.0        0.375  0.500000  \n",
      "8065             0.0        0.000  0.833333  \n",
      "8066             0.0        0.375  0.833333  \n",
      "8067             0.5        0.250  0.500000  \n",
      "\n",
      "[8068 rows x 9 columns]\n"
     ]
    }
   ],
   "source": [
    "data = pd.read_csv('train.csv')\n",
    "data.head()\n",
    "\n",
    "# copy the data\n",
    "df_min_max_scaled = data.copy()\n",
    "  \n",
    "# apply normalization techniques\n",
    "for column in df_min_max_scaled.columns:\n",
    "    df_min_max_scaled[column] = (df_min_max_scaled[column] - df_min_max_scaled[column].min()) / (df_min_max_scaled[column].max() - df_min_max_scaled[column].min())    \n",
    "  \n",
    "# view normalized data\n",
    "print(df_min_max_scaled)"
   ]
  },
  {
   "cell_type": "code",
   "execution_count": 4,
   "id": "75bdb00b",
   "metadata": {},
   "outputs": [],
   "source": [
    "X = df_min_max_scaled[[\"Gender\",\"Ever_Married\",\"Age\",\"Graduated\",\"Work_Experience\",\"Spending_Score\",\"Family_Size\",\"Var_1\"]]\n",
    "#Visualise data points\n",
    "# plt.scatter(X[\"ApplicantIncome\"],X[\"LoanAmount\"],c='black')\n",
    "# plt.xlabel('AnnualIncome')\n",
    "# plt.ylabel('Loan Amount (In Thousands)')\n",
    "# plt.show()"
   ]
  },
  {
   "cell_type": "code",
   "execution_count": 5,
   "id": "b5d82b20",
   "metadata": {},
   "outputs": [
    {
     "name": "stdout",
     "output_type": "stream",
     "text": [
      "      Gender  Ever_Married       Age  Graduated  Work_Experience  \\\n",
      "0        0.0           0.0  0.056338        0.0         0.071429   \n",
      "1        1.0           1.0  0.281690        1.0              NaN   \n",
      "2        1.0           1.0  0.690141        1.0         0.071429   \n",
      "3        0.0           1.0  0.690141        1.0         0.000000   \n",
      "4        1.0           1.0  0.309859        1.0              NaN   \n",
      "...      ...           ...       ...        ...              ...   \n",
      "8063     0.0           0.0  0.056338        0.0         0.000000   \n",
      "8064     0.0           0.0  0.239437        0.0         0.214286   \n",
      "8065     1.0           0.0  0.211268        1.0         0.071429   \n",
      "8066     1.0           0.0  0.126761        1.0         0.071429   \n",
      "8067     0.0           1.0  0.267606        1.0         0.000000   \n",
      "\n",
      "      Spending_Score  Family_Size     Var_1  \n",
      "0                0.0        0.375  0.500000  \n",
      "1                0.5        0.250  0.500000  \n",
      "2                0.0        0.000  0.833333  \n",
      "3                1.0        0.125  0.833333  \n",
      "4                1.0        0.625  0.833333  \n",
      "...              ...          ...       ...  \n",
      "8063             0.0        0.750  0.000000  \n",
      "8064             0.0        0.375  0.500000  \n",
      "8065             0.0        0.000  0.833333  \n",
      "8066             0.0        0.375  0.833333  \n",
      "8067             0.5        0.250  0.500000  \n",
      "\n",
      "[8068 rows x 8 columns]\n"
     ]
    }
   ],
   "source": [
    "print (X)"
   ]
  },
  {
   "cell_type": "code",
   "execution_count": 9,
   "id": "2912c697",
   "metadata": {},
   "outputs": [],
   "source": [
    "K=4\n",
    "\n",
    "# Select random observation as centroids\n",
    "Centroids = (X.sample(n=K))\n",
    "# plt.scatter(X[\"ApplicantIncome\"],X[\"LoanAmount\"],c='black')\n",
    "# plt.scatter(Centroids[\"ApplicantIncome\"],Centroids[\"LoanAmount\"],c='red')\n",
    "# plt.xlabel('AnnualIncome')\n",
    "# plt.ylabel('Loan Amount (In Thousands)')\n",
    "# plt.show()"
   ]
  },
  {
   "cell_type": "code",
   "execution_count": 10,
   "id": "05d7d8e0",
   "metadata": {},
   "outputs": [
    {
     "name": "stdout",
     "output_type": "stream",
     "text": [
      "-0.4730544850849323\n",
      "0.4395853542636197\n",
      "0.1516609817716639\n",
      "0.052875498890239625\n",
      "0.03482174207666267\n",
      "0.02743109566471865\n",
      "0.028578804267390366\n",
      "0.03350407192080584\n",
      "0.031062277802669784\n",
      "0.032227933819747374\n",
      "0.025553669519348697\n",
      "0.030196578664141938\n",
      "0.0288286445859852\n",
      "0.02607086912288388\n",
      "0.016147415318940872\n",
      "0.018562107789572416\n",
      "0.025725175427759747\n",
      "0.017834656165449395\n",
      "0.01650869164263523\n",
      "0.007390957425438285\n",
      "0.008220246694202474\n",
      "0.004523683586608984\n",
      "0.004316578148788025\n",
      "0.0\n"
     ]
    }
   ],
   "source": [
    "# Step 3 - Assign all the points to the closest cluster centroid\n",
    "# Step 4 - Recompute centroids of newly formed clusters\n",
    "# Step 5 - Repeat step 3 and 4\n",
    "\n",
    "diff = 1\n",
    "j=0\n",
    "\n",
    "while(diff!=0):\n",
    "    XD=X\n",
    "    i=1\n",
    "    for index1,row_c in Centroids.iterrows():\n",
    "        ED=[]\n",
    "        for index2,row_d in XD.iterrows():\n",
    "            d1=(row_c[\"Age\"]-row_d[\"Age\"])**2\n",
    "            d2=(row_c[\"Gender\"]-row_d[\"Gender\"])**2\n",
    "            d3=(row_c[\"Graduated\"]-row_d[\"Graduated\"])**2\n",
    "            d4=(row_c[\"Work_Experience\"]-row_d[\"Work_Experience\"])**2\n",
    "            d5=(row_c[\"Spending_Score\"]-row_d[\"Spending_Score\"])**2\n",
    "            d6=(row_c[\"Family_Size\"]-row_d[\"Family_Size\"])**2\n",
    "            d7=(row_c[\"Var_1\"]-row_d[\"Var_1\"])**2\n",
    "            d=np.sqrt(d1+d2+d3+d4+d5+d6+d7)\n",
    "            ED.append(d)\n",
    "        X[i]=ED\n",
    "        i=i+1\n",
    "\n",
    "    C=[]\n",
    "    for index,row in X.iterrows():\n",
    "        min_dist=row[1]\n",
    "        pos=1\n",
    "        for i in range(K):\n",
    "            if row[i+1] < min_dist:\n",
    "                min_dist = row[i+1]\n",
    "                pos=i+1\n",
    "        C.append(pos)\n",
    "    X[\"Cluster\"]=C\n",
    "    Centroids_new = X.groupby([\"Cluster\"]).mean()[[\"Gender\",\"Ever_Married\",\"Age\",\"Graduated\",\"Work_Experience\",\"Spending_Score\",\"Family_Size\",\"Var_1\"]]\n",
    "    if j == 0:\n",
    "        diff=1\n",
    "        j=j+1\n",
    "    else:\n",
    "        diff = (Centroids_new['Age'] - Centroids['Age']).sum() + (Centroids_new['Gender'] - Centroids['Gender']).sum() + (Centroids_new['Graduated'] - Centroids['Graduated']).sum() + (Centroids_new['Work_Experience'] - Centroids['Work_Experience']).sum() + (Centroids_new['Spending_Score'] - Centroids['Spending_Score']).sum() + (Centroids_new['Family_Size'] - Centroids['Family_Size']).sum() + (Centroids_new['Var_1'] - Centroids['Var_1']).sum()\n",
    "        print(diff.sum())\n",
    "    Centroids = X.groupby([\"Cluster\"]).mean()[[\"Gender\",\"Ever_Married\",\"Age\",\"Graduated\",\"Work_Experience\",\"Spending_Score\",\"Family_Size\",\"Var_1\"]]"
   ]
  },
  {
   "cell_type": "code",
   "execution_count": null,
   "id": "a15496ce",
   "metadata": {},
   "outputs": [],
   "source": []
  },
  {
   "cell_type": "code",
   "execution_count": 8,
   "id": "69eb7567",
   "metadata": {},
   "outputs": [
    {
     "name": "stdout",
     "output_type": "stream",
     "text": [
      "           Gender  Ever_Married       Age  Graduated  Work_Experience  \\\n",
      "Cluster                                                                 \n",
      "1        0.375883      0.719043  0.425882   0.330357         0.161938   \n",
      "2        0.199303      1.000000  0.484330   1.000000         0.165007   \n",
      "3        0.506010      0.231352  0.173069   0.000000         0.195682   \n",
      "4        0.597796      0.503482  0.362409   1.000000         0.206808   \n",
      "\n",
      "         Spending_Score  Family_Size     Var_1  \n",
      "Cluster                                         \n",
      "1              0.411705     0.241272  0.685292  \n",
      "2              0.737979     0.244338  0.732404  \n",
      "3              0.031196     0.309030  0.624785  \n",
      "4              0.094180     0.172348  0.711031  \n"
     ]
    }
   ],
   "source": [
    "print (Centroids)"
   ]
  },
  {
   "cell_type": "code",
   "execution_count": null,
   "id": "5fb022ec",
   "metadata": {},
   "outputs": [],
   "source": []
  },
  {
   "cell_type": "code",
   "execution_count": null,
   "id": "67b56b3d",
   "metadata": {},
   "outputs": [],
   "source": []
  },
  {
   "cell_type": "code",
   "execution_count": null,
   "id": "2ddee9c0",
   "metadata": {},
   "outputs": [],
   "source": []
  },
  {
   "cell_type": "code",
   "execution_count": null,
   "id": "3486c150",
   "metadata": {},
   "outputs": [],
   "source": []
  },
  {
   "cell_type": "code",
   "execution_count": null,
   "id": "bf25309b",
   "metadata": {},
   "outputs": [],
   "source": []
  }
 ],
 "metadata": {
  "kernelspec": {
   "display_name": "Python 3 (ipykernel)",
   "language": "python",
   "name": "python3"
  },
  "language_info": {
   "codemirror_mode": {
    "name": "ipython",
    "version": 3
   },
   "file_extension": ".py",
   "mimetype": "text/x-python",
   "name": "python",
   "nbconvert_exporter": "python",
   "pygments_lexer": "ipython3",
   "version": "3.9.7"
  }
 },
 "nbformat": 4,
 "nbformat_minor": 5
}
